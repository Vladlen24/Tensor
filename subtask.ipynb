{
 "cells": [
  {
   "cell_type": "code",
   "execution_count": 49,
   "id": "4e2c7bcf",
   "metadata": {},
   "outputs": [],
   "source": [
    "import torch\n",
    "from torch.autograd import Variable\n",
    "import numpy\n",
    "import ctypes"
   ]
  },
  {
   "cell_type": "code",
   "execution_count": null,
   "id": "524da2d1",
   "metadata": {},
   "outputs": [],
   "source": [
    "class CItem(ctypes.Structure):\n",
    "    _fields_ = [\n",
    "                 ('value', ctypes.c_float)\n",
    "                ]\n",
    "\n",
    "def py_list2c_array(py_list, size):\n",
    "    rowType = CItem * size\n",
    "    resultType = ctypes.POINTER(CItem) * size\n",
    "    result = resultType()\n",
    "    a = [[0] * size for i in range(size)]\n",
    "    for i in range(size):\n",
    "        row = rowType()\n",
    "        for j in range(size):\n",
    "            row[j] = CItem()\n",
    "            a = ctypes.c_float(py_list[i][j])\n",
    "            row[j].value = a.value\n",
    "        result[i] = ctypes.cast(row, ctypes.POINTER(CItem))\n",
    "    return ctypes.cast(result, ctypes.POINTER(ctypes.POINTER(CItem)))"
   ]
  },
  {
   "cell_type": "code",
   "execution_count": null,
   "id": "b57ede36",
   "metadata": {},
   "outputs": [],
   "source": [
    "cLib = ctypes.cdll.LoadLibrary('./tensor_sum.dll')\n",
    "\n",
    "cLib.tensor_sum.argtypes = [ctypes.POINTER(ctypes.POINTER(CItem))]\n",
    "cLib.tensor_sum.restype = ctypes.c_float"
   ]
  },
  {
   "cell_type": "code",
   "execution_count": 50,
   "id": "ed757c58",
   "metadata": {},
   "outputs": [
    {
     "name": "stdout",
     "output_type": "stream",
     "text": [
      "tensor(20.)\n",
      "<SumBackward0 object at 0x7fe7cc621e20>\n",
      "tensor([[1., 1.],\n",
      "        [1., 1.]])\n",
      "tensor([[1., 1.],\n",
      "        [1., 1.]])\n"
     ]
    }
   ],
   "source": [
    "w1 = Variable(torch.ones(2, 2)*2, requires_grad = True)\n",
    "w2 = Variable(torch.ones(2, 2)*3, requires_grad = True)\n",
    "loss = torch.sum(w1 + w2)\n",
    "print(loss.data)\n",
    "print(loss.grad_fn)\n",
    "loss.backward()\n",
    "print(w1.grad)\n",
    "print(w2.grad)"
   ]
  },
  {
   "cell_type": "code",
   "execution_count": 52,
   "id": "81147c4a",
   "metadata": {},
   "outputs": [
    {
     "data": {
      "text/plain": [
       "array([[2., 2.],\n",
       "       [2., 2.]], dtype=float32)"
      ]
     },
     "execution_count": 52,
     "metadata": {},
     "output_type": "execute_result"
    }
   ],
   "source": [
    "arr1 = w1.cpu().detach().numpy()\n",
    "arr2 = w2.cpu().detach().numpy()\n",
    "\n",
    "size = 2\n",
    "c_array1 = py_list2c_array(arr1, size)\n",
    "c_array2 = py_list2c_array(arr2, size)"
   ]
  },
  {
   "cell_type": "code",
   "execution_count": null,
   "id": "e9e90fe2",
   "metadata": {},
   "outputs": [],
   "source": [
    "loss = cLib.tensor_sum(c_array1, c_array2)     # loss = sum(w1,w2)\n",
    "print(loss)\n",
    "# loss.backward()\n",
    "w1.grad"
   ]
  }
 ],
 "metadata": {
  "kernelspec": {
   "display_name": "Python 3",
   "language": "python",
   "name": "python3"
  },
  "language_info": {
   "codemirror_mode": {
    "name": "ipython",
    "version": 3
   },
   "file_extension": ".py",
   "mimetype": "text/x-python",
   "name": "python",
   "nbconvert_exporter": "python",
   "pygments_lexer": "ipython3",
   "version": "3.8.8"
  }
 },
 "nbformat": 4,
 "nbformat_minor": 5
}
