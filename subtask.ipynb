{
 "cells": [
  {
   "cell_type": "code",
   "execution_count": 1,
   "id": "58bcec0d",
   "metadata": {},
   "outputs": [],
   "source": [
    "import torch\n",
    "from torch.autograd import Variable\n",
    "import numpy\n",
    "import ctypes"
   ]
  },
  {
   "cell_type": "code",
   "execution_count": 2,
   "id": "45ce3ed2",
   "metadata": {},
   "outputs": [],
   "source": [
    "class CItem(ctypes.Structure):\n",
    "    _fields_ = [\n",
    "                 ('value', ctypes.c_double)\n",
    "                ]\n",
    "\n",
    "def py_list2c_array(py_list, size):\n",
    "    rowType = CItem * size\n",
    "    resultType = ctypes.POINTER(CItem) * size\n",
    "    result = resultType()\n",
    "    a = [[0] * size for i in range(size)]\n",
    "    for i in range(size):\n",
    "        row = rowType()\n",
    "        for j in range(size):\n",
    "            row[j] = CItem()\n",
    "            a = ctypes.c_double(py_list[i][j])\n",
    "            row[j].value = a.value\n",
    "        result[i] = ctypes.cast(row, ctypes.POINTER(CItem))\n",
    "    return ctypes.cast(result, ctypes.POINTER(ctypes.POINTER(CItem)))\n",
    "\n",
    "def arr2c_arr(arr, size):\n",
    "    arrType = ctypes.c_double * size\n",
    "    c_arr = arrType()\n",
    "    for j in range(size):\n",
    "        c_arr[j] = ctypes.c_double()\n",
    "        a = ctypes.c_double(arr[0][j])\n",
    "        c_arr[j] = a\n",
    "    return ctypes.cast(c_arr, ctypes.POINTER(ctypes.c_double))"
   ]
  },
  {
   "cell_type": "code",
   "execution_count": 3,
   "id": "5b398394",
   "metadata": {},
   "outputs": [],
   "source": [
    "cLib = ctypes.cdll.LoadLibrary('./example-app/build/libexample-app.so')\n"
   ]
  },
  {
   "cell_type": "code",
   "execution_count": 4,
   "id": "cdad6403",
   "metadata": {},
   "outputs": [
    {
     "name": "stdout",
     "output_type": "stream",
     "text": [
      "9\n"
     ]
    }
   ],
   "source": [
    "cLib.summs.argtypes = [ctypes.c_int]\n",
    "cLib.summs.restype = ctypes.c_int\n",
    "\n",
    "summ = cLib.summs(5, 4)\n",
    "print(summ)"
   ]
  },
  {
   "cell_type": "code",
   "execution_count": 5,
   "id": "0ebe0ad8",
   "metadata": {},
   "outputs": [],
   "source": [
    "size = 113452\n",
    "w1 = Variable(torch.ones(1, size)*2, requires_grad = True)\n",
    "w2 = Variable(torch.ones(1, size)*3, requires_grad = True)\n",
    "arr1 = w1.cpu().detach().numpy()\n",
    "arr2 = w2.cpu().detach().numpy()\n",
    "\n",
    "c_array1 = arr2c_arr(arr1, size)\n",
    "c_array2 = arr2c_arr(arr2, size)\n",
    "\n",
    "cLib.tensor_sum.argtypes = [ctypes.POINTER(ctypes.c_double), ctypes.POINTER(ctypes.c_double), ctypes.c_int]\n",
    "cLib.tensor_sum.restype = ctypes.c_double\n"
   ]
  },
  {
   "cell_type": "code",
   "execution_count": 6,
   "id": "d6a910bc",
   "metadata": {},
   "outputs": [
    {
     "name": "stdout",
     "output_type": "stream",
     "text": [
      "567260.0\n"
     ]
    }
   ],
   "source": [
    "loss = cLib.tensor_sum(c_array1, c_array2, ctypes.c_int(size))\n",
    "print(loss)"
   ]
  }
 ],
 "metadata": {
  "kernelspec": {
   "display_name": "Python 3",
   "language": "python",
   "name": "python3"
  },
  "language_info": {
   "codemirror_mode": {
    "name": "ipython",
    "version": 3
   },
   "file_extension": ".py",
   "mimetype": "text/x-python",
   "name": "python",
   "nbconvert_exporter": "python",
   "pygments_lexer": "ipython3",
   "version": "3.8.8"
  }
 },
 "nbformat": 4,
 "nbformat_minor": 5
}
