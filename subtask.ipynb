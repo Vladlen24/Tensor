{
 "cells": [
  {
   "cell_type": "code",
   "execution_count": 29,
   "id": "fcf87f89",
   "metadata": {},
   "outputs": [],
   "source": [
    "import torch\n",
    "from torch.autograd import Variable\n",
    "import numpy\n",
    "import ctypes"
   ]
  },
  {
   "cell_type": "code",
   "execution_count": 24,
   "id": "cb28155a",
   "metadata": {},
   "outputs": [
    {
     "name": "stdout",
     "output_type": "stream",
     "text": [
      "tensor(20.)\n",
      "<SumBackward0 object at 0x7fe7cc5e0160>\n",
      "tensor([[1., 1.],\n",
      "        [1., 1.]])\n",
      "tensor([[1., 1.],\n",
      "        [1., 1.]])\n"
     ]
    }
   ],
   "source": [
    "w1 = Variable(torch.ones(2, 2)*2, requires_grad = True)\n",
    "w2 = Variable(torch.ones(2, 2)*3, requires_grad = True)\n",
    "loss = torch.sum(w1 + w2)\n",
    "print(loss.data)\n",
    "print(loss.grad_fn)\n",
    "loss.backward()\n",
    "print(w1.grad)\n",
    "print(w2.grad)"
   ]
  },
  {
   "cell_type": "code",
   "execution_count": 26,
   "id": "02442ab3",
   "metadata": {},
   "outputs": [
    {
     "data": {
      "text/plain": [
       "93842032237696"
      ]
     },
     "execution_count": 26,
     "metadata": {},
     "output_type": "execute_result"
    }
   ],
   "source": [
    "loss.data_ptr()"
   ]
  },
  {
   "cell_type": "code",
   "execution_count": 46,
   "id": "ed076cee",
   "metadata": {},
   "outputs": [
    {
     "ename": "TypeError",
     "evalue": "only size-1 arrays can be converted to Python scalars",
     "output_type": "error",
     "traceback": [
      "\u001b[0;31m---------------------------------------------------------------------------\u001b[0m",
      "\u001b[0;31mTypeError\u001b[0m                                 Traceback (most recent call last)",
      "\u001b[0;32m<ipython-input-46-6d0f876c5989>\u001b[0m in \u001b[0;36m<module>\u001b[0;34m\u001b[0m\n\u001b[1;32m      5\u001b[0m \u001b[0;31m# for i in range(m):\u001b[0m\u001b[0;34m\u001b[0m\u001b[0;34m\u001b[0m\u001b[0;34m\u001b[0m\u001b[0m\n\u001b[1;32m      6\u001b[0m \u001b[0;31m#     a[i] = ctypes.cast((ctypes.c_float * n)(arr[i]), ctypes.POINTER(ctypes.c_float))\u001b[0m\u001b[0;34m\u001b[0m\u001b[0;34m\u001b[0m\u001b[0;34m\u001b[0m\u001b[0m\n\u001b[0;32m----> 7\u001b[0;31m \u001b[0mb\u001b[0m \u001b[0;34m=\u001b[0m \u001b[0;34m(\u001b[0m\u001b[0mctypes\u001b[0m\u001b[0;34m.\u001b[0m\u001b[0mc_float\u001b[0m \u001b[0;34m*\u001b[0m \u001b[0mn\u001b[0m\u001b[0;34m)\u001b[0m\u001b[0;34m(\u001b[0m\u001b[0marr\u001b[0m\u001b[0;34m[\u001b[0m\u001b[0mi\u001b[0m\u001b[0;34m]\u001b[0m\u001b[0;34m)\u001b[0m\u001b[0;34m\u001b[0m\u001b[0;34m\u001b[0m\u001b[0m\n\u001b[0m",
      "\u001b[0;31mTypeError\u001b[0m: only size-1 arrays can be converted to Python scalars"
     ]
    }
   ],
   "source": [
    "arr = w1.cpu().detach().numpy()\n",
    "n = 2\n",
    "m = 2\n",
    "# a = (ctypes.POINTER(ctypes.c_float) * n)()\n",
    "# for i in range(m):\n",
    "#     a[i] = ctypes.cast((ctypes.c_float * n)(arr[i]), ctypes.POINTER(ctypes.c_float))\n",
    "# b = (ctypes.c_float * n)(arr[i])"
   ]
  },
  {
   "cell_type": "code",
   "execution_count": null,
   "id": "d9b7f53e",
   "metadata": {},
   "outputs": [],
   "source": [
    "w1 = Variable(torch.ones(2, 2)*2, requires_grad = True)\n",
    "w2 = Variable(torch.ones(2, 2)*3, requires_grad = True)\n",
    "# loss = sum(w1,w2)\n",
    "# loss.backward()\n",
    "# w1.grad"
   ]
  }
 ],
 "metadata": {
  "kernelspec": {
   "display_name": "Python 3",
   "language": "python",
   "name": "python3"
  },
  "language_info": {
   "codemirror_mode": {
    "name": "ipython",
    "version": 3
   },
   "file_extension": ".py",
   "mimetype": "text/x-python",
   "name": "python",
   "nbconvert_exporter": "python",
   "pygments_lexer": "ipython3",
   "version": "3.8.8"
  }
 },
 "nbformat": 4,
 "nbformat_minor": 5
}
