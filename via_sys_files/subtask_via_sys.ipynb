{
 "cells": [
  {
   "cell_type": "code",
   "execution_count": 2,
   "id": "330f8e7c",
   "metadata": {},
   "outputs": [],
   "source": [
    "import subprocess\n",
    "import torch\n",
    "from torch.autograd import Variable"
   ]
  },
  {
   "cell_type": "code",
   "execution_count": 7,
   "id": "86135e8d",
   "metadata": {},
   "outputs": [],
   "source": [
    "tensor1 = Variable(torch.ones(2, 2)*2, requires_grad = True)\n",
    "tensor2 = Variable(torch.ones(2, 2)*3, requires_grad = True)\n",
    "arr1 = tensor1.cpu().detach().numpy()\n",
    "arr2 = tensor2.cpu().detach().numpy()\n",
    "\n",
    "file1 = open(\"tensor1.txt\", 'w')\n",
    "for i in range(2):\n",
    "    for j in range(2):\n",
    "        file1.write(str(arr1[i][j]) + \"\\n\")\n",
    "file1.close()\n",
    "file2 = open(\"tensor2.txt\", 'w')\n",
    "for i in range(2):\n",
    "    for j in range(2):\n",
    "        file2.write(str(arr2[i][j]) + \"\\n\")\n",
    "file2.close()"
   ]
  },
  {
   "cell_type": "code",
   "execution_count": 10,
   "id": "cbf47c0e",
   "metadata": {},
   "outputs": [
    {
     "data": {
      "text/plain": [
       "20.0"
      ]
     },
     "execution_count": 10,
     "metadata": {},
     "output_type": "execute_result"
    }
   ],
   "source": [
    "tensor_sum = subprocess.check_output(\"./example-app/build/example-app\").decode()\n",
    "float(tensor_sum)"
   ]
  },
  {
   "cell_type": "code",
   "execution_count": null,
   "id": "2c97d9a4",
   "metadata": {},
   "outputs": [],
   "source": []
  }
 ],
 "metadata": {
  "kernelspec": {
   "display_name": "Python 3",
   "language": "python",
   "name": "python3"
  },
  "language_info": {
   "codemirror_mode": {
    "name": "ipython",
    "version": 3
   },
   "file_extension": ".py",
   "mimetype": "text/x-python",
   "name": "python",
   "nbconvert_exporter": "python",
   "pygments_lexer": "ipython3",
   "version": "3.8.8"
  }
 },
 "nbformat": 4,
 "nbformat_minor": 5
}
